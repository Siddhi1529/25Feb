{
  "nbformat": 4,
  "nbformat_minor": 0,
  "metadata": {
    "colab": {
      "provenance": []
    },
    "kernelspec": {
      "name": "python3",
      "display_name": "Python 3"
    },
    "language_info": {
      "name": "python"
    }
  },
  "cells": [
    {
      "cell_type": "markdown",
      "source": [
        "Consider following code to answer further questions:\n",
        "\n"
      ],
      "metadata": {
        "id": "vzA_PpHdezLe"
      }
    },
    {
      "cell_type": "code",
      "source": [
        "import pandas as pd\n",
        "\n",
        "course_name = ['Data Science', 'Machine Learning', 'Big Data', 'Data Engineer']\n",
        "duration = [2, 3, 6, 4]\n",
        "\n",
        "df = pd.DataFrame(data={'course_name': course_name, 'duration': duration})\n",
        "\n",
        "print(df)\n"
      ],
      "metadata": {
        "colab": {
          "base_uri": "https://localhost:8080/"
        },
        "id": "u-rLeRBAfodP",
        "outputId": "e698dd8c-bafe-4f90-cbea-e4c5c473c159"
      },
      "execution_count": 4,
      "outputs": [
        {
          "output_type": "stream",
          "name": "stdout",
          "text": [
            "        course_name  duration\n",
            "0      Data Science         2\n",
            "1  Machine Learning         3\n",
            "2          Big Data         6\n",
            "3     Data Engineer         4\n"
          ]
        }
      ]
    },
    {
      "cell_type": "markdown",
      "source": [
        "Q1. Write a code to print the data present in the second row of the dataframe, df.\n"
      ],
      "metadata": {
        "id": "MKpYFQ3te0QY"
      }
    },
    {
      "cell_type": "code",
      "source": [
        "# Print the data in the second row\n",
        "print(df.iloc[1])\n"
      ],
      "metadata": {
        "colab": {
          "base_uri": "https://localhost:8080/"
        },
        "id": "jP-LaT8ve1C7",
        "outputId": "e48723ab-b955-47b5-92ae-72d11287760e"
      },
      "execution_count": 3,
      "outputs": [
        {
          "output_type": "stream",
          "name": "stdout",
          "text": [
            "course_name    Machine Learning\n",
            "duration                      3\n",
            "Name: 1, dtype: object\n"
          ]
        }
      ]
    },
    {
      "cell_type": "markdown",
      "source": [
        "Q2. What is the difference between the functions loc and iloc in pandas.DataFrame?"
      ],
      "metadata": {
        "id": "t4b-GzoFe1JY"
      }
    },
    {
      "cell_type": "code",
      "source": [
        "# loc : Accesses data based on row and column labels\n",
        "\n",
        "print(df.loc[1, 'course_name'])\n",
        "print(df.loc[1, 'duration'])\n"
      ],
      "metadata": {
        "colab": {
          "base_uri": "https://localhost:8080/"
        },
        "id": "wGCsx2ZTe2ac",
        "outputId": "71bd7ce8-50a8-41ea-8f93-6e42c29c0965"
      },
      "execution_count": 5,
      "outputs": [
        {
          "output_type": "stream",
          "name": "stdout",
          "text": [
            "Machine Learning\n",
            "3\n"
          ]
        }
      ]
    },
    {
      "cell_type": "code",
      "source": [
        "# iloc : Accesses data based on integer positions\n",
        "\n",
        "print(df.iloc[1, 0])\n",
        "print(df.iloc[1, 1])\n"
      ],
      "metadata": {
        "colab": {
          "base_uri": "https://localhost:8080/"
        },
        "id": "e_G45rbSgO9t",
        "outputId": "17b8edb6-51e4-4231-ff13-826561264443"
      },
      "execution_count": 6,
      "outputs": [
        {
          "output_type": "stream",
          "name": "stdout",
          "text": [
            "Machine Learning\n",
            "3\n"
          ]
        }
      ]
    },
    {
      "cell_type": "markdown",
      "source": [
        "Q3. Reindex the given dataframe using a variable, reindex = [3,0,1,2] and store it in the variable, new_df\n",
        "then find the output for both new_df.loc[2] and new_df.iloc[2].\n",
        "\n",
        "Did you observe any difference in both the outputs? If so then explain it.\n",
        "Consider the below code to answer further questions:\n",
        "\n"
      ],
      "metadata": {
        "id": "Y6MDfyJWe2nJ"
      }
    },
    {
      "cell_type": "code",
      "source": [
        "import pandas as pd\n",
        "import numpy as np\n",
        "columns = ['column_1', 'column_2', 'column_3', 'column_4', 'column_5', 'column_6']\n",
        "indices = [1,2,3,4,5,6]\n",
        "#Creating a dataframe:\n",
        "df1 = pd.DataFrame(np.random.rand(6,6), columns = columns, index = indices)"
      ],
      "metadata": {
        "id": "0cR-8rqEe-MV"
      },
      "execution_count": 8,
      "outputs": []
    },
    {
      "cell_type": "code",
      "source": [
        "# Reindex the dataframe\n",
        "reindex = [3, 0, 1, 2]\n",
        "new_df = df1.reindex(reindex)\n",
        "\n",
        "# Display the outputs\n",
        "loc_output = new_df.loc[2]  # Accessing row by index label 2\n",
        "iloc_output = new_df.iloc[2]  # Accessing the 3rd row (position 2)\n",
        "\n",
        "(loc_output, iloc_output)\n"
      ],
      "metadata": {
        "colab": {
          "base_uri": "https://localhost:8080/"
        },
        "id": "4QupCWDOfOHN",
        "outputId": "c21f7233-8e92-4eb7-9dc7-6aa2330458a0"
      },
      "execution_count": 9,
      "outputs": [
        {
          "output_type": "execute_result",
          "data": {
            "text/plain": [
              "(column_1    0.063207\n",
              " column_2    0.711056\n",
              " column_3    0.233075\n",
              " column_4    0.482094\n",
              " column_5    0.327600\n",
              " column_6    0.735514\n",
              " Name: 2, dtype: float64,\n",
              " column_1    0.348092\n",
              " column_2    0.839641\n",
              " column_3    0.641169\n",
              " column_4    0.393515\n",
              " column_5    0.590925\n",
              " column_6    0.937932\n",
              " Name: 1, dtype: float64)"
            ]
          },
          "metadata": {},
          "execution_count": 9
        }
      ]
    },
    {
      "cell_type": "markdown",
      "source": [
        "new_df.loc[2]: This will access the row where the index is 2 in the reindexed dataframe. If index 2 exists in new_df, this will return that row. However, in this case, since 0 is an invalid index in the original dataframe, the row with index 0 will likely contain NaN values.\n",
        "\n",
        "new_df.iloc[2]: This will return the 3rd row (position 2) in new_df regardless of the index label. In this case, iloc is based on the integer position, so it will give the actual 3rd row (after the reindexing)."
      ],
      "metadata": {
        "id": "pyAuuGWqg_o1"
      }
    },
    {
      "cell_type": "code",
      "source": [],
      "metadata": {
        "id": "h8Van48mfOKL"
      },
      "execution_count": null,
      "outputs": []
    },
    {
      "cell_type": "markdown",
      "source": [
        "Q4. Write a code to find the following statistical measurements for the above dataframe df1:\n",
        "(i) mean of each and every column present in the dataframe.\n",
        "(ii) standard deviation of column, ‘column_2’\n"
      ],
      "metadata": {
        "id": "NooMasrhe-T7"
      }
    },
    {
      "cell_type": "code",
      "source": [
        "import pandas as pd\n",
        "import numpy as np\n",
        "\n",
        "# Original dataframe setup\n",
        "columns = ['column_1', 'column_2', 'column_3', 'column_4', 'column_5', 'column_6']\n",
        "indices = [1, 2, 3, 4, 5, 6]\n",
        "df1 = pd.DataFrame(np.random.rand(6, 6), columns=columns, index=indices)\n",
        "\n",
        "# (i) Mean of each column\n",
        "mean_of_columns = df1.mean()\n",
        "\n",
        "# (ii) Standard deviation of 'column_2'\n",
        "std_of_column_2 = df1['column_2'].std()\n",
        "\n",
        "# Display the results\n",
        "(mean_of_columns, std_of_column_2)\n"
      ],
      "metadata": {
        "colab": {
          "base_uri": "https://localhost:8080/"
        },
        "id": "SD4RCMMqe_l5",
        "outputId": "da32978c-9784-4ec7-d468-887aaaa1a659"
      },
      "execution_count": 10,
      "outputs": [
        {
          "output_type": "execute_result",
          "data": {
            "text/plain": [
              "(column_1    0.435259\n",
              " column_2    0.685503\n",
              " column_3    0.418569\n",
              " column_4    0.602549\n",
              " column_5    0.699150\n",
              " column_6    0.392184\n",
              " dtype: float64,\n",
              " 0.3175080899922842)"
            ]
          },
          "metadata": {},
          "execution_count": 10
        }
      ]
    },
    {
      "cell_type": "code",
      "source": [],
      "metadata": {
        "id": "qlsBpd1LhGrW"
      },
      "execution_count": null,
      "outputs": []
    },
    {
      "cell_type": "markdown",
      "source": [
        "Q5. Replace the data present in the second row of column, ‘column_2’ by a string variable then find the\n",
        "mean of column, column_2.\n",
        "If you are getting errors in executing it then explain why.\n",
        "[Hint: To replace the data use df1.loc[] and equate this to string data of your choice.]\n"
      ],
      "metadata": {
        "id": "ao-J-r0le_sL"
      }
    },
    {
      "cell_type": "code",
      "source": [
        "import pandas as pd\n",
        "import numpy as np\n",
        "\n",
        "# Original dataframe setup\n",
        "columns = ['column_1', 'column_2', 'column_3', 'column_4', 'column_5', 'column_6']\n",
        "indices = [1, 2, 3, 4, 5, 6]\n",
        "df1 = pd.DataFrame(np.random.rand(6, 6), columns=columns, index=indices)\n",
        "\n",
        "# Replacing the second row of 'column_2' with a string\n",
        "df1.loc[2, 'column_2'] = 'string_value'\n",
        "\n",
        "# Finding the mean of 'column_2'\n",
        "mean_of_column_2 = df1['column_2'].mean()\n",
        "\n",
        "# Display the result\n",
        "mean_of_column_2\n"
      ],
      "metadata": {
        "colab": {
          "base_uri": "https://localhost:8080/",
          "height": 420
        },
        "id": "c8PHMadyfBJ6",
        "outputId": "563b3912-3ad9-4ace-d913-e5cc0e582eec"
      },
      "execution_count": 11,
      "outputs": [
        {
          "output_type": "stream",
          "name": "stderr",
          "text": [
            "<ipython-input-11-1e247f6a5f62>:10: FutureWarning: Setting an item of incompatible dtype is deprecated and will raise an error in a future version of pandas. Value 'string_value' has dtype incompatible with float64, please explicitly cast to a compatible dtype first.\n",
            "  df1.loc[2, 'column_2'] = 'string_value'\n"
          ]
        },
        {
          "output_type": "error",
          "ename": "TypeError",
          "evalue": "unsupported operand type(s) for +: 'float' and 'str'",
          "traceback": [
            "\u001b[0;31m---------------------------------------------------------------------------\u001b[0m",
            "\u001b[0;31mTypeError\u001b[0m                                 Traceback (most recent call last)",
            "\u001b[0;32m<ipython-input-11-1e247f6a5f62>\u001b[0m in \u001b[0;36m<cell line: 13>\u001b[0;34m()\u001b[0m\n\u001b[1;32m     11\u001b[0m \u001b[0;34m\u001b[0m\u001b[0m\n\u001b[1;32m     12\u001b[0m \u001b[0;31m# Finding the mean of 'column_2'\u001b[0m\u001b[0;34m\u001b[0m\u001b[0;34m\u001b[0m\u001b[0m\n\u001b[0;32m---> 13\u001b[0;31m \u001b[0mmean_of_column_2\u001b[0m \u001b[0;34m=\u001b[0m \u001b[0mdf1\u001b[0m\u001b[0;34m[\u001b[0m\u001b[0;34m'column_2'\u001b[0m\u001b[0;34m]\u001b[0m\u001b[0;34m.\u001b[0m\u001b[0mmean\u001b[0m\u001b[0;34m(\u001b[0m\u001b[0;34m)\u001b[0m\u001b[0;34m\u001b[0m\u001b[0;34m\u001b[0m\u001b[0m\n\u001b[0m\u001b[1;32m     14\u001b[0m \u001b[0;34m\u001b[0m\u001b[0m\n\u001b[1;32m     15\u001b[0m \u001b[0;31m# Display the result\u001b[0m\u001b[0;34m\u001b[0m\u001b[0;34m\u001b[0m\u001b[0m\n",
            "\u001b[0;32m/usr/local/lib/python3.10/dist-packages/pandas/core/series.py\u001b[0m in \u001b[0;36mmean\u001b[0;34m(self, axis, skipna, numeric_only, **kwargs)\u001b[0m\n\u001b[1;32m   6547\u001b[0m         \u001b[0;34m**\u001b[0m\u001b[0mkwargs\u001b[0m\u001b[0;34m,\u001b[0m\u001b[0;34m\u001b[0m\u001b[0;34m\u001b[0m\u001b[0m\n\u001b[1;32m   6548\u001b[0m     ):\n\u001b[0;32m-> 6549\u001b[0;31m         \u001b[0;32mreturn\u001b[0m \u001b[0mNDFrame\u001b[0m\u001b[0;34m.\u001b[0m\u001b[0mmean\u001b[0m\u001b[0;34m(\u001b[0m\u001b[0mself\u001b[0m\u001b[0;34m,\u001b[0m \u001b[0maxis\u001b[0m\u001b[0;34m,\u001b[0m \u001b[0mskipna\u001b[0m\u001b[0;34m,\u001b[0m \u001b[0mnumeric_only\u001b[0m\u001b[0;34m,\u001b[0m \u001b[0;34m**\u001b[0m\u001b[0mkwargs\u001b[0m\u001b[0;34m)\u001b[0m\u001b[0;34m\u001b[0m\u001b[0;34m\u001b[0m\u001b[0m\n\u001b[0m\u001b[1;32m   6550\u001b[0m \u001b[0;34m\u001b[0m\u001b[0m\n\u001b[1;32m   6551\u001b[0m     \u001b[0;34m@\u001b[0m\u001b[0mdoc\u001b[0m\u001b[0;34m(\u001b[0m\u001b[0mmake_doc\u001b[0m\u001b[0;34m(\u001b[0m\u001b[0;34m\"median\"\u001b[0m\u001b[0;34m,\u001b[0m \u001b[0mndim\u001b[0m\u001b[0;34m=\u001b[0m\u001b[0;36m1\u001b[0m\u001b[0;34m)\u001b[0m\u001b[0;34m)\u001b[0m\u001b[0;34m\u001b[0m\u001b[0;34m\u001b[0m\u001b[0m\n",
            "\u001b[0;32m/usr/local/lib/python3.10/dist-packages/pandas/core/generic.py\u001b[0m in \u001b[0;36mmean\u001b[0;34m(self, axis, skipna, numeric_only, **kwargs)\u001b[0m\n\u001b[1;32m  12418\u001b[0m         \u001b[0;34m**\u001b[0m\u001b[0mkwargs\u001b[0m\u001b[0;34m,\u001b[0m\u001b[0;34m\u001b[0m\u001b[0;34m\u001b[0m\u001b[0m\n\u001b[1;32m  12419\u001b[0m     ) -> Series | float:\n\u001b[0;32m> 12420\u001b[0;31m         return self._stat_function(\n\u001b[0m\u001b[1;32m  12421\u001b[0m             \u001b[0;34m\"mean\"\u001b[0m\u001b[0;34m,\u001b[0m \u001b[0mnanops\u001b[0m\u001b[0;34m.\u001b[0m\u001b[0mnanmean\u001b[0m\u001b[0;34m,\u001b[0m \u001b[0maxis\u001b[0m\u001b[0;34m,\u001b[0m \u001b[0mskipna\u001b[0m\u001b[0;34m,\u001b[0m \u001b[0mnumeric_only\u001b[0m\u001b[0;34m,\u001b[0m \u001b[0;34m**\u001b[0m\u001b[0mkwargs\u001b[0m\u001b[0;34m\u001b[0m\u001b[0;34m\u001b[0m\u001b[0m\n\u001b[1;32m  12422\u001b[0m         )\n",
            "\u001b[0;32m/usr/local/lib/python3.10/dist-packages/pandas/core/generic.py\u001b[0m in \u001b[0;36m_stat_function\u001b[0;34m(self, name, func, axis, skipna, numeric_only, **kwargs)\u001b[0m\n\u001b[1;32m  12375\u001b[0m         \u001b[0mvalidate_bool_kwarg\u001b[0m\u001b[0;34m(\u001b[0m\u001b[0mskipna\u001b[0m\u001b[0;34m,\u001b[0m \u001b[0;34m\"skipna\"\u001b[0m\u001b[0;34m,\u001b[0m \u001b[0mnone_allowed\u001b[0m\u001b[0;34m=\u001b[0m\u001b[0;32mFalse\u001b[0m\u001b[0;34m)\u001b[0m\u001b[0;34m\u001b[0m\u001b[0;34m\u001b[0m\u001b[0m\n\u001b[1;32m  12376\u001b[0m \u001b[0;34m\u001b[0m\u001b[0m\n\u001b[0;32m> 12377\u001b[0;31m         return self._reduce(\n\u001b[0m\u001b[1;32m  12378\u001b[0m             \u001b[0mfunc\u001b[0m\u001b[0;34m,\u001b[0m \u001b[0mname\u001b[0m\u001b[0;34m=\u001b[0m\u001b[0mname\u001b[0m\u001b[0;34m,\u001b[0m \u001b[0maxis\u001b[0m\u001b[0;34m=\u001b[0m\u001b[0maxis\u001b[0m\u001b[0;34m,\u001b[0m \u001b[0mskipna\u001b[0m\u001b[0;34m=\u001b[0m\u001b[0mskipna\u001b[0m\u001b[0;34m,\u001b[0m \u001b[0mnumeric_only\u001b[0m\u001b[0;34m=\u001b[0m\u001b[0mnumeric_only\u001b[0m\u001b[0;34m\u001b[0m\u001b[0;34m\u001b[0m\u001b[0m\n\u001b[1;32m  12379\u001b[0m         )\n",
            "\u001b[0;32m/usr/local/lib/python3.10/dist-packages/pandas/core/series.py\u001b[0m in \u001b[0;36m_reduce\u001b[0;34m(self, op, name, axis, skipna, numeric_only, filter_type, **kwds)\u001b[0m\n\u001b[1;32m   6455\u001b[0m                     \u001b[0;34m\"with non-numeric dtypes.\"\u001b[0m\u001b[0;34m\u001b[0m\u001b[0;34m\u001b[0m\u001b[0m\n\u001b[1;32m   6456\u001b[0m                 )\n\u001b[0;32m-> 6457\u001b[0;31m             \u001b[0;32mreturn\u001b[0m \u001b[0mop\u001b[0m\u001b[0;34m(\u001b[0m\u001b[0mdelegate\u001b[0m\u001b[0;34m,\u001b[0m \u001b[0mskipna\u001b[0m\u001b[0;34m=\u001b[0m\u001b[0mskipna\u001b[0m\u001b[0;34m,\u001b[0m \u001b[0;34m**\u001b[0m\u001b[0mkwds\u001b[0m\u001b[0;34m)\u001b[0m\u001b[0;34m\u001b[0m\u001b[0;34m\u001b[0m\u001b[0m\n\u001b[0m\u001b[1;32m   6458\u001b[0m \u001b[0;34m\u001b[0m\u001b[0m\n\u001b[1;32m   6459\u001b[0m     \u001b[0;34m@\u001b[0m\u001b[0mAppender\u001b[0m\u001b[0;34m(\u001b[0m\u001b[0mmake_doc\u001b[0m\u001b[0;34m(\u001b[0m\u001b[0;34m\"any\"\u001b[0m\u001b[0;34m,\u001b[0m \u001b[0mndim\u001b[0m\u001b[0;34m=\u001b[0m\u001b[0;36m1\u001b[0m\u001b[0;34m)\u001b[0m\u001b[0;34m)\u001b[0m\u001b[0;34m\u001b[0m\u001b[0;34m\u001b[0m\u001b[0m\n",
            "\u001b[0;32m/usr/local/lib/python3.10/dist-packages/pandas/core/nanops.py\u001b[0m in \u001b[0;36mf\u001b[0;34m(values, axis, skipna, **kwds)\u001b[0m\n\u001b[1;32m    145\u001b[0m                     \u001b[0mresult\u001b[0m \u001b[0;34m=\u001b[0m \u001b[0malt\u001b[0m\u001b[0;34m(\u001b[0m\u001b[0mvalues\u001b[0m\u001b[0;34m,\u001b[0m \u001b[0maxis\u001b[0m\u001b[0;34m=\u001b[0m\u001b[0maxis\u001b[0m\u001b[0;34m,\u001b[0m \u001b[0mskipna\u001b[0m\u001b[0;34m=\u001b[0m\u001b[0mskipna\u001b[0m\u001b[0;34m,\u001b[0m \u001b[0;34m**\u001b[0m\u001b[0mkwds\u001b[0m\u001b[0;34m)\u001b[0m\u001b[0;34m\u001b[0m\u001b[0;34m\u001b[0m\u001b[0m\n\u001b[1;32m    146\u001b[0m             \u001b[0;32melse\u001b[0m\u001b[0;34m:\u001b[0m\u001b[0;34m\u001b[0m\u001b[0;34m\u001b[0m\u001b[0m\n\u001b[0;32m--> 147\u001b[0;31m                 \u001b[0mresult\u001b[0m \u001b[0;34m=\u001b[0m \u001b[0malt\u001b[0m\u001b[0;34m(\u001b[0m\u001b[0mvalues\u001b[0m\u001b[0;34m,\u001b[0m \u001b[0maxis\u001b[0m\u001b[0;34m=\u001b[0m\u001b[0maxis\u001b[0m\u001b[0;34m,\u001b[0m \u001b[0mskipna\u001b[0m\u001b[0;34m=\u001b[0m\u001b[0mskipna\u001b[0m\u001b[0;34m,\u001b[0m \u001b[0;34m**\u001b[0m\u001b[0mkwds\u001b[0m\u001b[0;34m)\u001b[0m\u001b[0;34m\u001b[0m\u001b[0;34m\u001b[0m\u001b[0m\n\u001b[0m\u001b[1;32m    148\u001b[0m \u001b[0;34m\u001b[0m\u001b[0m\n\u001b[1;32m    149\u001b[0m             \u001b[0;32mreturn\u001b[0m \u001b[0mresult\u001b[0m\u001b[0;34m\u001b[0m\u001b[0;34m\u001b[0m\u001b[0m\n",
            "\u001b[0;32m/usr/local/lib/python3.10/dist-packages/pandas/core/nanops.py\u001b[0m in \u001b[0;36mnew_func\u001b[0;34m(values, axis, skipna, mask, **kwargs)\u001b[0m\n\u001b[1;32m    402\u001b[0m             \u001b[0mmask\u001b[0m \u001b[0;34m=\u001b[0m \u001b[0misna\u001b[0m\u001b[0;34m(\u001b[0m\u001b[0mvalues\u001b[0m\u001b[0;34m)\u001b[0m\u001b[0;34m\u001b[0m\u001b[0;34m\u001b[0m\u001b[0m\n\u001b[1;32m    403\u001b[0m \u001b[0;34m\u001b[0m\u001b[0m\n\u001b[0;32m--> 404\u001b[0;31m         \u001b[0mresult\u001b[0m \u001b[0;34m=\u001b[0m \u001b[0mfunc\u001b[0m\u001b[0;34m(\u001b[0m\u001b[0mvalues\u001b[0m\u001b[0;34m,\u001b[0m \u001b[0maxis\u001b[0m\u001b[0;34m=\u001b[0m\u001b[0maxis\u001b[0m\u001b[0;34m,\u001b[0m \u001b[0mskipna\u001b[0m\u001b[0;34m=\u001b[0m\u001b[0mskipna\u001b[0m\u001b[0;34m,\u001b[0m \u001b[0mmask\u001b[0m\u001b[0;34m=\u001b[0m\u001b[0mmask\u001b[0m\u001b[0;34m,\u001b[0m \u001b[0;34m**\u001b[0m\u001b[0mkwargs\u001b[0m\u001b[0;34m)\u001b[0m\u001b[0;34m\u001b[0m\u001b[0;34m\u001b[0m\u001b[0m\n\u001b[0m\u001b[1;32m    405\u001b[0m \u001b[0;34m\u001b[0m\u001b[0m\n\u001b[1;32m    406\u001b[0m         \u001b[0;32mif\u001b[0m \u001b[0mdatetimelike\u001b[0m\u001b[0;34m:\u001b[0m\u001b[0;34m\u001b[0m\u001b[0;34m\u001b[0m\u001b[0m\n",
            "\u001b[0;32m/usr/local/lib/python3.10/dist-packages/pandas/core/nanops.py\u001b[0m in \u001b[0;36mnanmean\u001b[0;34m(values, axis, skipna, mask)\u001b[0m\n\u001b[1;32m    717\u001b[0m \u001b[0;34m\u001b[0m\u001b[0m\n\u001b[1;32m    718\u001b[0m     \u001b[0mcount\u001b[0m \u001b[0;34m=\u001b[0m \u001b[0m_get_counts\u001b[0m\u001b[0;34m(\u001b[0m\u001b[0mvalues\u001b[0m\u001b[0;34m.\u001b[0m\u001b[0mshape\u001b[0m\u001b[0;34m,\u001b[0m \u001b[0mmask\u001b[0m\u001b[0;34m,\u001b[0m \u001b[0maxis\u001b[0m\u001b[0;34m,\u001b[0m \u001b[0mdtype\u001b[0m\u001b[0;34m=\u001b[0m\u001b[0mdtype_count\u001b[0m\u001b[0;34m)\u001b[0m\u001b[0;34m\u001b[0m\u001b[0;34m\u001b[0m\u001b[0m\n\u001b[0;32m--> 719\u001b[0;31m     \u001b[0mthe_sum\u001b[0m \u001b[0;34m=\u001b[0m \u001b[0mvalues\u001b[0m\u001b[0;34m.\u001b[0m\u001b[0msum\u001b[0m\u001b[0;34m(\u001b[0m\u001b[0maxis\u001b[0m\u001b[0;34m,\u001b[0m \u001b[0mdtype\u001b[0m\u001b[0;34m=\u001b[0m\u001b[0mdtype_sum\u001b[0m\u001b[0;34m)\u001b[0m\u001b[0;34m\u001b[0m\u001b[0;34m\u001b[0m\u001b[0m\n\u001b[0m\u001b[1;32m    720\u001b[0m     \u001b[0mthe_sum\u001b[0m \u001b[0;34m=\u001b[0m \u001b[0m_ensure_numeric\u001b[0m\u001b[0;34m(\u001b[0m\u001b[0mthe_sum\u001b[0m\u001b[0;34m)\u001b[0m\u001b[0;34m\u001b[0m\u001b[0;34m\u001b[0m\u001b[0m\n\u001b[1;32m    721\u001b[0m \u001b[0;34m\u001b[0m\u001b[0m\n",
            "\u001b[0;32m/usr/local/lib/python3.10/dist-packages/numpy/core/_methods.py\u001b[0m in \u001b[0;36m_sum\u001b[0;34m(a, axis, dtype, out, keepdims, initial, where)\u001b[0m\n\u001b[1;32m     47\u001b[0m def _sum(a, axis=None, dtype=None, out=None, keepdims=False,\n\u001b[1;32m     48\u001b[0m          initial=_NoValue, where=True):\n\u001b[0;32m---> 49\u001b[0;31m     \u001b[0;32mreturn\u001b[0m \u001b[0mumr_sum\u001b[0m\u001b[0;34m(\u001b[0m\u001b[0ma\u001b[0m\u001b[0;34m,\u001b[0m \u001b[0maxis\u001b[0m\u001b[0;34m,\u001b[0m \u001b[0mdtype\u001b[0m\u001b[0;34m,\u001b[0m \u001b[0mout\u001b[0m\u001b[0;34m,\u001b[0m \u001b[0mkeepdims\u001b[0m\u001b[0;34m,\u001b[0m \u001b[0minitial\u001b[0m\u001b[0;34m,\u001b[0m \u001b[0mwhere\u001b[0m\u001b[0;34m)\u001b[0m\u001b[0;34m\u001b[0m\u001b[0;34m\u001b[0m\u001b[0m\n\u001b[0m\u001b[1;32m     50\u001b[0m \u001b[0;34m\u001b[0m\u001b[0m\n\u001b[1;32m     51\u001b[0m def _prod(a, axis=None, dtype=None, out=None, keepdims=False,\n",
            "\u001b[0;31mTypeError\u001b[0m: unsupported operand type(s) for +: 'float' and 'str'"
          ]
        }
      ]
    },
    {
      "cell_type": "markdown",
      "source": [
        "Data Type Mismatch: When you replace a value in column_2 with a string, the pandas column automatically converts the entire column to a dtype (data type) that can accommodate both the numerical values and the string. This typically results in an object data type (dtype='O'), which is not compatible with numerical operations like mean.\n",
        "String in Numerical Column: Since pandas cannot compute the mean of a column that contains mixed data types (numbers and strings), the error is raised when trying to calculate the mean."
      ],
      "metadata": {
        "id": "iLF73aCXhYD7"
      }
    },
    {
      "cell_type": "code",
      "source": [],
      "metadata": {
        "id": "s0Lnc_hMhL7P"
      },
      "execution_count": null,
      "outputs": []
    },
    {
      "cell_type": "markdown",
      "source": [
        "Q6. What do you understand about the windows function in pandas and list the types of windows\n",
        "functions?\n"
      ],
      "metadata": {
        "id": "aGa0A9KzfBRG"
      }
    },
    {
      "cell_type": "markdown",
      "source": [
        "Window functions in pandas apply operations over a specific \"window\" or subset of data, typically for time series analysis or smoothing. The window slides across the dataset, allowing computations to be performed on subsets of data.\n",
        "\n",
        "Types of Window Functions:\n",
        "\n",
        "1. **Rolling Window**:\n",
        "   - Applies a function over a fixed-size sliding window.\n",
        "   - Example: `df['column'].rolling(window=3).mean()` computes the rolling mean over a window of 3.\n",
        "\n",
        "2. **Expanding Window**:\n",
        "   - Applies a function over an expanding window, starting from the first value and increasing as more data becomes available.\n",
        "   - Example: `df['column'].expanding().mean()` calculates the cumulative mean.\n",
        "\n",
        "3. **Exponential Moving Average (EWMA)**:\n",
        "   - Applies an exponentially weighted moving average, giving more weight to recent data.\n",
        "   - Example: `df['column'].ewm(span=3).mean()` computes the EWMA with a span of 3.\n"
      ],
      "metadata": {
        "id": "iPwj5DHXhfJw"
      }
    },
    {
      "cell_type": "code",
      "source": [],
      "metadata": {
        "id": "f2tJeQKsfCh5"
      },
      "execution_count": null,
      "outputs": []
    },
    {
      "cell_type": "markdown",
      "source": [
        "Q7. Write a code to print only the current month and year at the time of answering this question.\n",
        "[Hint: Use pandas.datetime function]\n"
      ],
      "metadata": {
        "id": "A7mYP79gfCoI"
      }
    },
    {
      "cell_type": "code",
      "source": [
        "import pandas as pd\n",
        "\n",
        "# Get the current date and time\n",
        "current_datetime = pd.to_datetime('today')\n",
        "\n",
        "# Extract and print the current month and year\n",
        "current_month_year = current_datetime.strftime('%B %Y')\n",
        "print(current_month_year)\n"
      ],
      "metadata": {
        "colab": {
          "base_uri": "https://localhost:8080/"
        },
        "id": "L5CpKLjkfDrT",
        "outputId": "2c853f3a-4f95-49c0-8816-16739c35da02"
      },
      "execution_count": 12,
      "outputs": [
        {
          "output_type": "stream",
          "name": "stdout",
          "text": [
            "December 2024\n"
          ]
        }
      ]
    },
    {
      "cell_type": "markdown",
      "source": [
        "Q8. Write a Python program that takes in two dates as input (in the format YYYY-MM-DD) and\n",
        "calculates the difference between them in days, hours, and minutes using Pandas time delta. The\n",
        "program should prompt the user to enter the dates and display the result.\n",
        "Did you observe any difference in both the outputs? If so then explain it.\n",
        "Consider the below code to answer further questions:\n",
        "import pandas as pd\n",
        "import numpy as np\n",
        "columns = ['column_1', 'column_2', 'column_3', 'column_4', 'column_5', 'column_6']\n",
        "indices = [1,2,3,4,5,6]\n",
        "Creating a dataframe:\n",
        "df1 = pd.DataFrame(np.random.rand(6,6), columns = columns, index = indices)"
      ],
      "metadata": {
        "id": "hl5R8FP_fDyd"
      }
    },
    {
      "cell_type": "code",
      "source": [
        "import pandas as pd\n",
        "\n",
        "# Input: Take two dates as input from the user\n",
        "date1_input = input(\"Enter the first date (YYYY-MM-DD): \")\n",
        "date2_input = input(\"Enter the second date (YYYY-MM-DD): \")\n",
        "\n",
        "# Convert the input strings to pandas datetime objects\n",
        "date1 = pd.to_datetime(date1_input)\n",
        "date2 = pd.to_datetime(date2_input)\n",
        "\n",
        "# Calculate the difference between the two dates\n",
        "time_difference = date2 - date1\n",
        "\n",
        "# Extract the difference in days, hours, and minutes\n",
        "days = time_difference.days\n",
        "hours = time_difference.seconds // 3600\n",
        "minutes = (time_difference.seconds % 3600) // 60\n",
        "\n",
        "# Display the results\n",
        "print(f\"Difference: {days} days, {hours} hours, {minutes} minutes\")\n"
      ],
      "metadata": {
        "colab": {
          "base_uri": "https://localhost:8080/"
        },
        "id": "6XtohKUefEpS",
        "outputId": "c56bfc61-ed7c-4c4e-af7b-d123853be8b6"
      },
      "execution_count": 15,
      "outputs": [
        {
          "output_type": "stream",
          "name": "stdout",
          "text": [
            "Enter the first date (YYYY-MM-DD): 1998-12-18\n",
            "Enter the second date (YYYY-MM-DD): 1994-10-12\n",
            "Difference: -1528 days, 0 hours, 0 minutes\n"
          ]
        }
      ]
    },
    {
      "cell_type": "code",
      "source": [],
      "metadata": {
        "id": "eCGbpG8Nh6Af"
      },
      "execution_count": null,
      "outputs": []
    },
    {
      "cell_type": "markdown",
      "source": [
        "Q9. Write a Python program that reads a CSV file containing categorical data and converts a specified\n",
        "column to a categorical data type. The program should prompt the user to enter the file path, column\n",
        "name, and category order, and then display the sorted data.\n"
      ],
      "metadata": {
        "id": "0KJf-3ICfGug"
      }
    },
    {
      "cell_type": "code",
      "source": [
        "import pandas as pd\n",
        "\n",
        "# Function to read the CSV and process the categorical data\n",
        "def process_categorical_data():\n",
        "    # Input: Get the file path, column name, and category order from the user\n",
        "    file_path = input(\"Enter the CSV file path: \")\n",
        "    column_name = input(\"Enter the column name to convert to categorical: \")\n",
        "\n",
        "    # Read the CSV file into a DataFrame\n",
        "    try:\n",
        "        df = pd.read_csv(file_path)\n",
        "        print(\"\\nData Loaded Successfully!\\n\")\n",
        "        print(\"Preview of the data:\\n\", df.head())\n",
        "    except FileNotFoundError:\n",
        "        print(\"The file path is incorrect or the file does not exist.\")\n",
        "        return\n",
        "\n",
        "    # Check if the column exists in the DataFrame\n",
        "    if column_name not in df.columns:\n",
        "        print(f\"Column '{column_name}' does not exist in the dataset.\")\n",
        "        return\n",
        "\n",
        "    # Input: Get the category order from the user\n",
        "    category_order_input = input(f\"Enter the category order for column '{column_name}' separated by commas: \")\n",
        "    category_order = category_order_input.split(\",\")\n",
        "\n",
        "    # Convert the specified column to a categorical type with the provided category order\n",
        "    df[column_name] = pd.Categorical(df[column_name], categories=category_order, ordered=True)\n",
        "\n",
        "    # Sort the DataFrame by the categorical column\n",
        "    sorted_df = df.sort_values(by=column_name)\n",
        "\n",
        "    # Display the sorted DataFrame\n",
        "    print(\"\\nSorted Data based on the categorical column:\")\n",
        "    print(sorted_df)\n",
        "\n",
        "# Call the function to run the program\n",
        "process_categorical_data()\n"
      ],
      "metadata": {
        "id": "x9jxqnHEie89"
      },
      "execution_count": null,
      "outputs": []
    },
    {
      "cell_type": "code",
      "source": [],
      "metadata": {
        "id": "3WrL-Th0igw-"
      },
      "execution_count": null,
      "outputs": []
    },
    {
      "cell_type": "markdown",
      "source": [
        "Q10. Write a Python program that reads a CSV file containing sales data for different products and\n",
        "visualizes the data using a stacked bar chart to show the sales of each product category over time. The\n",
        "program should prompt the user to enter the file path and display the chart."
      ],
      "metadata": {
        "id": "50_i8U7efVgO"
      }
    },
    {
      "cell_type": "code",
      "source": [
        "import pandas as pd\n",
        "import matplotlib.pyplot as plt\n",
        "\n",
        "# Function to read the CSV file and plot the stacked bar chart\n",
        "def plot_sales_data():\n",
        "    # Input: Get the file path from the user\n",
        "    file_path = input(\"Enter the CSV file path: \")\n",
        "\n",
        "    # Read the CSV file into a DataFrame\n",
        "    try:\n",
        "        df = pd.read_csv(file_path)\n",
        "        print(\"\\nData Loaded Successfully!\\n\")\n",
        "        print(\"Preview of the data:\\n\", df.head())\n",
        "    except FileNotFoundError:\n",
        "        print(\"The file path is incorrect or the file does not exist.\")\n",
        "        return\n",
        "\n",
        "    # Check if necessary columns are present in the dataset\n",
        "    if 'Date' not in df.columns or 'Product_Category' not in df.columns or 'Sales' not in df.columns:\n",
        "        print(\"The dataset must contain 'Date', 'Product_Category', and 'Sales' columns.\")\n",
        "        return\n",
        "\n",
        "    # Convert the 'Date' column to datetime format\n",
        "    df['Date'] = pd.to_datetime(df['Date'])\n",
        "\n",
        "    # Group the data by 'Date' and 'Product_Category' and sum the sales\n",
        "    grouped_data = df.groupby([df['Date'].dt.to_period('M'), 'Product_Category'])['Sales'].sum().unstack(fill_value=0)\n",
        "\n",
        "    # Plot the stacked bar chart\n",
        "    grouped_data.plot(kind='bar', stacked=True, figsize=(10, 6))\n",
        "\n",
        "    # Set the chart title and labels\n",
        "    plt.title('Sales Data by Product Category Over Time')\n",
        "    plt.xlabel('Date')\n",
        "    plt.ylabel('Sales')\n",
        "    plt.xticks(rotation=45)\n",
        "    plt.tight_layout()\n",
        "\n",
        "    # Display the chart\n",
        "    plt.show()\n",
        "\n",
        "# Call the function to run the program\n",
        "plot_sales_data()\n"
      ],
      "metadata": {
        "id": "0fZyPFZhfVwZ"
      },
      "execution_count": null,
      "outputs": []
    },
    {
      "cell_type": "code",
      "source": [],
      "metadata": {
        "id": "qQxCYrCgipzQ"
      },
      "execution_count": null,
      "outputs": []
    },
    {
      "cell_type": "markdown",
      "source": [
        "Q11. You are given a CSV file containing student data that includes the student ID and their test score. Write\n",
        "a Python program that reads the CSV file, calculates the mean, median, and mode of the test scores, and\n",
        "displays the results in a table.\n",
        "The program should do the followingM\n",
        "I Prompt the user to enter the file path of the CSV file containing the student dataR\n",
        "I Read the CSV file into a Pandas DataFrameR\n",
        "I Calculate the mean, median, and mode of the test scores using Pandas toolsR\n",
        "I Display the mean, median, and mode in a table.\n",
        "Assume the CSV file contains the following columnsM\n",
        "I Student ID: The ID of the studentR\n",
        "I Test Score: The score of the student's test.\n",
        "Example usage of the program:\n",
        "Enter the file path of the CSV file containing the student data: student_data.csv\n",
        "\n",
        "+-----------+--------+\n",
        "| Statistic | Value |\n",
        "+-----------+--------+\n",
        "| Mean | 79.6 |\n",
        "| Median | 82 |\n",
        "| Mode | 85, 90 |\n",
        "+-----------+--------+\n",
        "Assume that the CSV file student_data.csv contains the following data:\n",
        "Student ID,Test Score\n",
        "1,85\n",
        "2,90\n",
        "3,80\n",
        "4,75\n",
        "5,85\n",
        "6,82\n",
        "7,78\n",
        "8,85\n",
        "9,90\n",
        "10,85\n",
        "The program should calculate the mean, median, and mode of the test scores and display the results\n",
        "in a table."
      ],
      "metadata": {
        "id": "qgvg8KYRfV5X"
      }
    },
    {
      "cell_type": "code",
      "source": [
        "import pandas as pd\n",
        "\n",
        "# Function to read the CSV file, calculate statistics, and display the table\n",
        "def calculate_statistics():\n",
        "    # Input: Get the file path from the user\n",
        "    file_path = input(\"Enter the file path of the CSV file containing the student data: \")\n",
        "\n",
        "    # Read the CSV file into a DataFrame\n",
        "    try:\n",
        "        df = pd.read_csv(file_path)\n",
        "        print(\"\\nData Loaded Successfully!\\n\")\n",
        "        print(\"Preview of the data:\\n\", df.head())\n",
        "    except FileNotFoundError:\n",
        "        print(\"The file path is incorrect or the file does not exist.\")\n",
        "        return\n",
        "\n",
        "    # Check if the necessary column exists\n",
        "    if 'Test Score' not in df.columns:\n",
        "        print(\"The dataset must contain a 'Test Score' column.\")\n",
        "        return\n",
        "\n",
        "    # Calculate the mean, median, and mode of the test scores\n",
        "    mean_score = df['Test Score'].mean()\n",
        "    median_score = df['Test Score'].median()\n",
        "    mode_score = df['Test Score'].mode().tolist()  # mode() returns a Series, so convert to list\n",
        "\n",
        "    # Format the mode as a string of values\n",
        "    mode_score_str = ', '.join(map(str, mode_score))\n",
        "\n",
        "    # Prepare the table for displaying the results\n",
        "    result = pd.DataFrame({\n",
        "        'Statistic': ['Mean', 'Median', 'Mode'],\n",
        "        'Value': [mean_score, median_score, mode_score_str]\n",
        "    })\n",
        "\n",
        "    # Display the results in a table format\n",
        "    print(\"\\n+-----------+--------+\")\n",
        "    print(\"| Statistic | Value  |\")\n",
        "    print(\"+-----------+--------+\")\n",
        "    for index, row in result.iterrows():\n",
        "        print(f\"| {row['Statistic']} | {row['Value']} |\")\n",
        "    print(\"+-----------+--------+\")\n",
        "\n",
        "# Call the function to run the program\n",
        "calculate_statistics()\n"
      ],
      "metadata": {
        "id": "19Ud95FyfbAI"
      },
      "execution_count": null,
      "outputs": []
    },
    {
      "cell_type": "code",
      "source": [],
      "metadata": {
        "id": "zu-cUhbnfbn8"
      },
      "execution_count": null,
      "outputs": []
    }
  ]
}